{
 "cells": [
  {
   "cell_type": "markdown",
   "metadata": {},
   "source": [
    "# Impedance simulation"
   ]
  },
  {
   "cell_type": "code",
   "execution_count": 1,
   "metadata": {},
   "outputs": [],
   "source": [
    "import os, sys\n",
    "try:\n",
    "    import pySIMsalabim as sim\n",
    "except ImportError: # add parent directory to sys.path if pySIMsalabim is not installed\n",
    "    sys.path.append('..')\n",
    "    import pySIMsalabim as sim\n",
    "from pySIMsalabim.experiments.impedance import *"
   ]
  },
  {
   "cell_type": "markdown",
   "metadata": {},
   "source": [
    "### Setup the simulation"
   ]
  },
  {
   "cell_type": "code",
   "execution_count": 2,
   "metadata": {},
   "outputs": [],
   "source": [
    "# Set the path to the simulation setup file\n",
    "cwd = os.path.abspath('..')\n",
    "session_path = os.path.join(cwd, 'SIMsalabim','ZimT')\n",
    "zimt_device_parameters = os.path.join(session_path, 'simulation_setup.txt')\n",
    "\n",
    "# Set the impedance simulation parameters\n",
    "tVG_name = os.path.join(session_path,'tVG.txt')\n",
    "f_min = 1e-1\n",
    "f_max = 1e6\n",
    "f_steps = 20\n",
    "V_0 = 0\n",
    "del_V = 0.01\n",
    "G_frac = 0\n",
    "# Run the impedance simulation\n",
    "ret, mess = run_impedance_simu(zimt_device_parameters, session_path, f_min, f_max, f_steps, V_0, G_frac, del_V, run_mode=False, tVG_name = tVG_name, output_file = 'freqZ.dat', tj_name = 'tj.dat')"
   ]
  },
  {
   "cell_type": "markdown",
   "metadata": {},
   "source": [
    "### Plot results"
   ]
  },
  {
   "cell_type": "code",
   "execution_count": null,
   "metadata": {},
   "outputs": [],
   "source": [
    "plot_impedance(session_path, output_file='freqZ.dat')"
   ]
  },
  {
   "cell_type": "code",
   "execution_count": 4,
   "metadata": {},
   "outputs": [],
   "source": [
    "# Clean up the output files (comment out if you want to keep the output files)\n",
    "sim.clean_all_output(session_path)\n",
    "sim.clean_up_output('freqZ',session_path)\n",
    "sim.delete_folders('tmp',session_path)"
   ]
  }
 ],
 "metadata": {
  "kernelspec": {
   "display_name": "pysim",
   "language": "python",
   "name": "python3"
  },
  "language_info": {
   "codemirror_mode": {
    "name": "ipython",
    "version": 3
   },
   "file_extension": ".py",
   "mimetype": "text/x-python",
   "name": "python",
   "nbconvert_exporter": "python",
   "pygments_lexer": "ipython3",
   "version": "3.13.1"
  }
 },
 "nbformat": 4,
 "nbformat_minor": 2
}
